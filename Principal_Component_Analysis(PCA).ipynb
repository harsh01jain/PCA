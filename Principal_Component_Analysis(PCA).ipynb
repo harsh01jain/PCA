{
 "cells": [
  {
   "cell_type": "code",
   "execution_count": 147,
   "metadata": {},
   "outputs": [],
   "source": [
    "import pandas as pd                                    # for reading csv file\n",
    "import matplotlib.pyplot as plt                        # for data visualization\n",
    "import seaborn as sns                                  # for data visualization\n",
    "import numpy as np\n",
    "from sklearn import datasets"
   ]
  },
  {
   "cell_type": "code",
   "execution_count": 148,
   "metadata": {},
   "outputs": [
    {
     "name": "stdout",
     "output_type": "stream",
     "text": [
      ".. _iris_dataset:\n",
      "\n",
      "Iris plants dataset\n",
      "--------------------\n",
      "\n",
      "**Data Set Characteristics:**\n",
      "\n",
      "    :Number of Instances: 150 (50 in each of three classes)\n",
      "    :Number of Attributes: 4 numeric, predictive attributes and the class\n",
      "    :Attribute Information:\n",
      "        - sepal length in cm\n",
      "        - sepal width in cm\n",
      "        - petal length in cm\n",
      "        - petal width in cm\n",
      "        - class:\n",
      "                - Iris-Setosa\n",
      "                - Iris-Versicolour\n",
      "                - Iris-Virginica\n",
      "                \n",
      "    :Summary Statistics:\n",
      "\n",
      "    ============== ==== ==== ======= ===== ====================\n",
      "                    Min  Max   Mean    SD   Class Correlation\n",
      "    ============== ==== ==== ======= ===== ====================\n",
      "    sepal length:   4.3  7.9   5.84   0.83    0.7826\n",
      "    sepal width:    2.0  4.4   3.05   0.43   -0.4194\n",
      "    petal length:   1.0  6.9   3.76   1.76    0.9490  (high!)\n",
      "    petal width:    0.1  2.5   1.20   0.76    0.9565  (high!)\n",
      "    ============== ==== ==== ======= ===== ====================\n",
      "\n",
      "    :Missing Attribute Values: None\n",
      "    :Class Distribution: 33.3% for each of 3 classes.\n",
      "    :Creator: R.A. Fisher\n",
      "    :Donor: Michael Marshall (MARSHALL%PLU@io.arc.nasa.gov)\n",
      "    :Date: July, 1988\n",
      "\n",
      "The famous Iris database, first used by Sir R.A. Fisher. The dataset is taken\n",
      "from Fisher's paper. Note that it's the same as in R, but not as in the UCI\n",
      "Machine Learning Repository, which has two wrong data points.\n",
      "\n",
      "This is perhaps the best known database to be found in the\n",
      "pattern recognition literature.  Fisher's paper is a classic in the field and\n",
      "is referenced frequently to this day.  (See Duda & Hart, for example.)  The\n",
      "data set contains 3 classes of 50 instances each, where each class refers to a\n",
      "type of iris plant.  One class is linearly separable from the other 2; the\n",
      "latter are NOT linearly separable from each other.\n",
      "\n",
      ".. topic:: References\n",
      "\n",
      "   - Fisher, R.A. \"The use of multiple measurements in taxonomic problems\"\n",
      "     Annual Eugenics, 7, Part II, 179-188 (1936); also in \"Contributions to\n",
      "     Mathematical Statistics\" (John Wiley, NY, 1950).\n",
      "   - Duda, R.O., & Hart, P.E. (1973) Pattern Classification and Scene Analysis.\n",
      "     (Q327.D83) John Wiley & Sons.  ISBN 0-471-22361-1.  See page 218.\n",
      "   - Dasarathy, B.V. (1980) \"Nosing Around the Neighborhood: A New System\n",
      "     Structure and Classification Rule for Recognition in Partially Exposed\n",
      "     Environments\".  IEEE Transactions on Pattern Analysis and Machine\n",
      "     Intelligence, Vol. PAMI-2, No. 1, 67-71.\n",
      "   - Gates, G.W. (1972) \"The Reduced Nearest Neighbor Rule\".  IEEE Transactions\n",
      "     on Information Theory, May 1972, 431-433.\n",
      "   - See also: 1988 MLC Proceedings, 54-64.  Cheeseman et al\"s AUTOCLASS II\n",
      "     conceptual clustering system finds 3 classes in the data.\n",
      "   - Many, many more ...\n"
     ]
    }
   ],
   "source": [
    "df = datasets.load_iris()\n",
    "df.feature_names # column header\n",
    "df.data # independent variables\n",
    "df.target # dependent variables\n",
    "print(df.DESCR) # dataset description "
   ]
  },
  {
   "cell_type": "code",
   "execution_count": 149,
   "metadata": {},
   "outputs": [
    {
     "data": {
      "text/plain": [
       "dict_keys(['data', 'target', 'target_names', 'DESCR', 'feature_names', 'filename'])"
      ]
     },
     "execution_count": 149,
     "metadata": {},
     "output_type": "execute_result"
    }
   ],
   "source": [
    "df.keys()"
   ]
  },
  {
   "cell_type": "code",
   "execution_count": 150,
   "metadata": {},
   "outputs": [],
   "source": [
    "X = df.data\n",
    "y = df.target"
   ]
  },
  {
   "cell_type": "code",
   "execution_count": 151,
   "metadata": {},
   "outputs": [
    {
     "data": {
      "text/plain": [
       "(150, 4)"
      ]
     },
     "execution_count": 151,
     "metadata": {},
     "output_type": "execute_result"
    }
   ],
   "source": [
    "X.shape"
   ]
  },
  {
   "cell_type": "code",
   "execution_count": 152,
   "metadata": {},
   "outputs": [],
   "source": [
    "from sklearn.model_selection import train_test_split \n",
    "\n",
    "X_train, X_test, y_train, y_test = train_test_split(X, y, random_state=10)"
   ]
  },
  {
   "cell_type": "code",
   "execution_count": 153,
   "metadata": {},
   "outputs": [
    {
     "data": {
      "text/plain": [
       "array([1, 2, 0, 1, 0, 1, 1, 1, 0, 1, 1, 2, 1, 0, 0, 2, 1, 0, 0, 0, 2, 2,\n",
       "       2, 0, 1, 0, 1, 1, 1, 2, 1, 1, 2, 2, 2, 0, 2, 2])"
      ]
     },
     "execution_count": 153,
     "metadata": {},
     "output_type": "execute_result"
    }
   ],
   "source": [
    "y_test"
   ]
  },
  {
   "cell_type": "code",
   "execution_count": 135,
   "metadata": {},
   "outputs": [],
   "source": [
    "from sklearn.preprocessing import StandardScaler\n",
    "\n",
    "scaler = StandardScaler()\n",
    "\n",
    "X_train = scaler.fit_transform(X_train)\n",
    "X_test = scaler.transform(X_test)"
   ]
  },
  {
   "cell_type": "code",
   "execution_count": 136,
   "metadata": {},
   "outputs": [
    {
     "name": "stdout",
     "output_type": "stream",
     "text": [
      "[0.73055142 0.22675973]\n"
     ]
    }
   ],
   "source": [
    "from sklearn.decomposition import PCA\n",
    "pca = PCA(n_components = 2)\n",
    "X_train1 = pca.fit_transform(X_train)\n",
    "X_test1 = pca.transform(X_test)\n",
    "explained_variance = pca.explained_variance_ratio_\n",
    "print(explained_variance)"
   ]
  },
  {
   "cell_type": "code",
   "execution_count": 137,
   "metadata": {},
   "outputs": [
    {
     "data": {
      "text/plain": [
       "0.957311148833847"
      ]
     },
     "execution_count": 137,
     "metadata": {},
     "output_type": "execute_result"
    }
   ],
   "source": [
    "sum(explained_variance)"
   ]
  },
  {
   "cell_type": "code",
   "execution_count": 138,
   "metadata": {},
   "outputs": [
    {
     "data": {
      "text/plain": [
       "array([[ 3.30180845,  0.01731959],\n",
       "       [ 1.90723199,  0.65878151],\n",
       "       [-1.98631341,  0.17288663],\n",
       "       [-1.90277699,  0.3990639 ],\n",
       "       [ 0.05761623, -1.0649465 ],\n",
       "       [-1.77366979, -2.35706075],\n",
       "       [ 0.76702599,  0.72324419],\n",
       "       [-2.55564946,  1.69014252],\n",
       "       [ 1.2562083 ,  0.58183073],\n",
       "       [ 0.76130113,  0.34851745],\n",
       "       [ 1.00647482, -0.60212855],\n",
       "       [ 1.99866713,  1.00643181],\n",
       "       [ 1.25982658, -1.61844052],\n",
       "       [ 2.24914569,  1.86783967],\n",
       "       [ 0.07439641, -1.58706657],\n",
       "       [ 0.69503829, -0.25904347],\n",
       "       [ 0.75376509,  0.55065686],\n",
       "       [-2.14521408,  1.7687172 ],\n",
       "       [-2.16849594,  0.91597414],\n",
       "       [ 0.74861291, -0.219121  ],\n",
       "       [-1.85268404,  0.34253052],\n",
       "       [ 1.36111434,  0.3834048 ],\n",
       "       [-2.19263389, -0.40111778],\n",
       "       [-2.22402447, -0.65667031],\n",
       "       [ 0.41235474, -1.584977  ],\n",
       "       [-0.39022793, -1.56588832],\n",
       "       [ 2.01892899,  0.58076761],\n",
       "       [-2.45892554,  0.51084358],\n",
       "       [ 1.85807442,  0.6438762 ],\n",
       "       [-1.99637604, -0.76264482],\n",
       "       [ 0.28263907, -0.80302802],\n",
       "       [ 1.08902443, -0.65742411],\n",
       "       [-2.47577912, -0.54509989],\n",
       "       [ 2.04196912,  0.8294864 ],\n",
       "       [ 2.2876899 ,  2.56741666],\n",
       "       [ 1.48603058,  0.22260252],\n",
       "       [ 2.74402113,  0.77846511],\n",
       "       [ 1.13854469, -0.31890638],\n",
       "       [-2.37219084, -0.02592326],\n",
       "       [ 0.00735089, -1.08091281],\n",
       "       [ 2.02220655, -0.71796406],\n",
       "       [ 0.29589997, -0.63044069],\n",
       "       [-2.03824926, -0.51640168],\n",
       "       [ 1.80233588, -0.21010469],\n",
       "       [ 1.11696507,  0.82436039],\n",
       "       [ 0.26536548, -0.42164437],\n",
       "       [-2.32373667,  0.56690918],\n",
       "       [-2.02111227,  1.39894178],\n",
       "       [-2.07898298,  1.0535903 ],\n",
       "       [ 0.2604967 , -0.33202224],\n",
       "       [ 2.43734237,  0.24502778],\n",
       "       [ 1.45762826, -0.07723057],\n",
       "       [ 0.8978771 ,  0.21850507],\n",
       "       [-2.16529767,  0.15303002],\n",
       "       [-2.32288058,  1.03125804],\n",
       "       [-2.12555664,  0.41541629],\n",
       "       [ 1.87645576,  0.26355356],\n",
       "       [ 1.18496567, -0.72300837],\n",
       "       [ 0.51114359, -0.44465367],\n",
       "       [ 0.18011688, -1.57651936],\n",
       "       [ 1.37674916,  0.65138698],\n",
       "       [ 1.53518816,  0.23750782],\n",
       "       [ 0.98465346, -0.06288606],\n",
       "       [ 1.22969643, -0.83065605],\n",
       "       [ 0.73129765, -0.09311306],\n",
       "       [-2.0739042 ,  0.24530461],\n",
       "       [-2.25669115,  0.06075542],\n",
       "       [ 0.32942273, -0.88351757],\n",
       "       [-1.75567671,  0.02263156],\n",
       "       [-2.70126364,  0.37493303],\n",
       "       [ 1.04359027,  0.02815071],\n",
       "       [-0.30206446, -2.03335743],\n",
       "       [-1.84560968,  1.32234252],\n",
       "       [-2.10443869,  0.45410094],\n",
       "       [-1.98357681,  0.59189392],\n",
       "       [-0.4269807 , -1.87255515],\n",
       "       [-1.77106979,  0.35867364],\n",
       "       [ 0.89681101,  0.47281978],\n",
       "       [-2.14290363, -0.78126361],\n",
       "       [ 0.32856665, -1.34786643],\n",
       "       [ 1.29825978, -1.70576381],\n",
       "       [-2.06771766, -0.56192007],\n",
       "       [ 1.06744481,  0.48584265],\n",
       "       [ 0.3780869 , -1.00934869],\n",
       "       [ 1.38215301,  0.95787699],\n",
       "       [-1.88087635, -0.67596614],\n",
       "       [ 0.94920852, -0.01984333],\n",
       "       [-2.549899  , -1.01875814],\n",
       "       [ 0.21150746, -1.32096682],\n",
       "       [ 1.37433358,  0.30061642],\n",
       "       [ 2.79019044,  0.83765097],\n",
       "       [ 1.58225522,  1.01641825],\n",
       "       [-2.39205828,  2.04604121],\n",
       "       [ 0.60737411, -1.76468903],\n",
       "       [ 2.8911214 ,  0.40203276],\n",
       "       [ 2.30407568,  0.39899632],\n",
       "       [ 0.10799257, -0.26207991],\n",
       "       [ 1.10011149, -0.23158309],\n",
       "       [ 1.84833685,  0.82312045],\n",
       "       [-2.15093895,  1.39399047],\n",
       "       [ 1.59952881,  0.6350346 ],\n",
       "       [-2.21993838,  0.36742225],\n",
       "       [-2.19882043,  0.4061069 ],\n",
       "       [ 0.66507649, -0.44529828],\n",
       "       [-2.25434896, -1.16653756],\n",
       "       [ 1.87882968,  0.35894841],\n",
       "       [ 1.3564139 , -0.50101235],\n",
       "       [ 1.28983005, -1.17681   ],\n",
       "       [ 0.00870039, -0.47582754],\n",
       "       [-2.21520621,  2.57452724],\n",
       "       [ 1.95580711,  0.97120212],\n",
       "       [-2.11151305, -0.52571107]])"
      ]
     },
     "execution_count": 138,
     "metadata": {},
     "output_type": "execute_result"
    }
   ],
   "source": [
    "X_train1"
   ]
  },
  {
   "cell_type": "code",
   "execution_count": 139,
   "metadata": {},
   "outputs": [],
   "source": [
    "from sklearn.svm import SVC\n",
    "classifier = SVC(kernel='rbf',gamma=0.1,C=1)\n",
    "classifier.fit(X_train1, y_train)\n",
    "y_pred = classifier.predict(X_test1)"
   ]
  },
  {
   "cell_type": "code",
   "execution_count": 140,
   "metadata": {},
   "outputs": [
    {
     "name": "stdout",
     "output_type": "stream",
     "text": [
      "[[11  0  0]\n",
      " [ 0 13  2]\n",
      " [ 0  0 12]]\n",
      "class report:\n",
      "              precision    recall  f1-score   support\n",
      "\n",
      "           0       1.00      1.00      1.00        11\n",
      "           1       1.00      0.87      0.93        15\n",
      "           2       0.86      1.00      0.92        12\n",
      "\n",
      "    accuracy                           0.95        38\n",
      "   macro avg       0.95      0.96      0.95        38\n",
      "weighted avg       0.95      0.95      0.95        38\n",
      "\n",
      "Accuracy: 0.9473684210526315\n"
     ]
    }
   ],
   "source": [
    "from sklearn.metrics import confusion_matrix, accuracy_score ,classification_report\n",
    "\n",
    "cfm = confusion_matrix(y_test,y_pred)\n",
    "print(cfm)\n",
    "print(\"class report:\")\n",
    "print(classification_report(y_test,y_pred))\n",
    "acc = accuracy_score(y_test,y_pred)\n",
    "print(\"Accuracy:\",acc)"
   ]
  },
  {
   "cell_type": "code",
   "execution_count": 141,
   "metadata": {},
   "outputs": [
    {
     "name": "stderr",
     "output_type": "stream",
     "text": [
      "'c' argument looks like a single numeric RGB or RGBA sequence, which should be avoided as value-mapping will have precedence in case its length matches with 'x' & 'y'.  Please use a 2-D array with a single row if you really want to specify the same RGB or RGBA value for all points.\n",
      "'c' argument looks like a single numeric RGB or RGBA sequence, which should be avoided as value-mapping will have precedence in case its length matches with 'x' & 'y'.  Please use a 2-D array with a single row if you really want to specify the same RGB or RGBA value for all points.\n",
      "'c' argument looks like a single numeric RGB or RGBA sequence, which should be avoided as value-mapping will have precedence in case its length matches with 'x' & 'y'.  Please use a 2-D array with a single row if you really want to specify the same RGB or RGBA value for all points.\n"
     ]
    },
    {
     "data": {
      "image/png": "[encoded data removed]",
      "text/plain": [
       "<Figure size 432x288 with 1 Axes>"
      ]
     },
     "metadata": {
      "needs_background": "light"
     },
     "output_type": "display_data"
    }
   ],
   "source": [
    "from matplotlib.colors import ListedColormap\n",
    "\n",
    "X_set,y_set=X_train,y_train\n",
    "X1,X2=np.meshgrid(np.arange(start=X_set[:,0].min()-1,\n",
    "                            stop=X_set[:,0].max()+1,\n",
    "                            step=0.01),\n",
    "                  np.arange(start=X_set[:,1].min()-1,\n",
    "                            stop=X_set[:,1].max()+1,\n",
    "                            step=0.01))\n",
    "plt.contourf(X1,X2,classifier.predict(np.array([X1.ravel(),\n",
    "                                                X2.ravel()]).T).reshape(X1.shape),\n",
    "             alpha=0.5,\n",
    "             cmap=ListedColormap(('red','green','blue')))\n",
    "plt.xlim(X1.min(),X1.max())\n",
    "plt.xlim(X2.min(),X1.max())\n",
    "\n",
    "for i,j in enumerate(np.unique(y_set)):\n",
    "    plt.scatter(X_set[y_set==j,0],X_set[y_set==j,1],\n",
    "               c=ListedColormap((\"red\",\"green\",\"blue\"))(i),label=j)\n",
    "plt.title('SVM(Training set)')\n",
    "plt.xlabel('PC1')\n",
    "plt.ylabel('PC2')\n",
    "plt.legend()\n",
    "plt.show()"
   ]
  },
  {
   "cell_type": "code",
   "execution_count": 142,
   "metadata": {},
   "outputs": [],
   "source": [
    "# from sklearn.preprocessing import StandardScaler\n",
    "\n",
    "# scaler = StandardScaler()\n",
    "\n",
    "# X_train = scaler.fit_transform(X_train)\n",
    "# X_test = scaler.transform(X_test)"
   ]
  },
  {
   "cell_type": "code",
   "execution_count": 143,
   "metadata": {},
   "outputs": [],
   "source": [
    "# from sklearn.decomposition import PCA\n",
    "# pca = PCA(n_components = 2)\n",
    "# X_train1 = pca.fit_transform(X_train)\n",
    "# X_test1 = pca.transform(X_test)\n",
    "# explained_variance = pca.explained_variance_ratio_\n",
    "# print(explained_variance)"
   ]
  },
  {
   "cell_type": "code",
   "execution_count": 144,
   "metadata": {},
   "outputs": [],
   "source": [
    "from sklearn.svm import SVC\n",
    "classifier = SVC(kernel='rbf',gamma=0.1,C=1)\n",
    "classifier.fit(X_train1, y_train)\n",
    "y_pred_train = classifier.predict(X_train1)"
   ]
  },
  {
   "cell_type": "code",
   "execution_count": 145,
   "metadata": {},
   "outputs": [
    {
     "name": "stdout",
     "output_type": "stream",
     "text": [
      "[[39  0  0]\n",
      " [ 0 32  3]\n",
      " [ 0  5 33]]\n",
      "class report:\n",
      "              precision    recall  f1-score   support\n",
      "\n",
      "           0       1.00      1.00      1.00        39\n",
      "           1       0.86      0.91      0.89        35\n",
      "           2       0.92      0.87      0.89        38\n",
      "\n",
      "    accuracy                           0.93       112\n",
      "   macro avg       0.93      0.93      0.93       112\n",
      "weighted avg       0.93      0.93      0.93       112\n",
      "\n",
      "Accuracy: 0.9285714285714286\n"
     ]
    }
   ],
   "source": [
    "from sklearn.metrics import confusion_matrix, accuracy_score ,classification_report\n",
    "\n",
    "cfm = confusion_matrix(y_train,y_pred_train)\n",
    "print(cfm)\n",
    "print(\"class report:\")\n",
    "print(classification_report(y_train,y_pred_train))\n",
    "acc = accuracy_score(y_train,y_pred_train)\n",
    "print(\"Accuracy:\",acc)"
   ]
  },
  {
   "cell_type": "code",
   "execution_count": 146,
   "metadata": {},
   "outputs": [
    {
     "name": "stderr",
     "output_type": "stream",
     "text": [
      "'c' argument looks like a single numeric RGB or RGBA sequence, which should be avoided as value-mapping will have precedence in case its length matches with 'x' & 'y'.  Please use a 2-D array with a single row if you really want to specify the same RGB or RGBA value for all points.\n",
      "'c' argument looks like a single numeric RGB or RGBA sequence, which should be avoided as value-mapping will have precedence in case its length matches with 'x' & 'y'.  Please use a 2-D array with a single row if you really want to specify the same RGB or RGBA value for all points.\n",
      "'c' argument looks like a single numeric RGB or RGBA sequence, which should be avoided as value-mapping will have precedence in case its length matches with 'x' & 'y'.  Please use a 2-D array with a single row if you really want to specify the same RGB or RGBA value for all points.\n"
     ]
    },
    {
     "data": {
      "image/png": "[encoded data removed]",
      "text/plain": [
       "<Figure size 432x288 with 1 Axes>"
      ]
     },
     "metadata": {
      "needs_background": "light"
     },
     "output_type": "display_data"
    }
   ],
   "source": [
    "from matplotlib.colors import ListedColormap\n",
    "\n",
    "X_set,y_set=X_test,y_test\n",
    "X1,X2=np.meshgrid(np.arange(start=X_set[:,0].min()-1,\n",
    "                            stop=X_set[:,0].max()+1,\n",
    "                            step=0.01),\n",
    "                  np.arange(start=X_set[:,1].min()-1,\n",
    "                            stop=X_set[:,1].max()+1,\n",
    "                            step=0.01))\n",
    "plt.contourf(X1,X2,classifier.predict(np.array([X1.ravel(),\n",
    "                                                X2.ravel()]).T).reshape(X1.shape),\n",
    "             alpha=0.5,\n",
    "             cmap=ListedColormap(('red','green','blue')))\n",
    "plt.xlim(X1.min(),X1.max())\n",
    "plt.xlim(X2.min(),X1.max())\n",
    "\n",
    "for i,j in enumerate(np.unique(y_set)):\n",
    "    plt.scatter(X_set[y_set==j,0],X_set[y_set==j,1],\n",
    "               c=ListedColormap((\"red\",\"green\",\"blue\"))(i),label=j)\n",
    "plt.title('SVM(Training set)')\n",
    "plt.xlabel('PC1')\n",
    "plt.ylabel('PC2')\n",
    "plt.legend()\n",
    "plt.show()"
   ]
  },
  {
   "cell_type": "code",
   "execution_count": null,
   "metadata": {},
   "outputs": [],
   "source": []
  }
 ],
 "metadata": {
  "kernelspec": {
   "display_name": "Python 3 (ipykernel)",
   "language": "python",
   "name": "python3"
  },
  "language_info": {
   "codemirror_mode": {
    "name": "ipython",
    "version": 3
   },
   "file_extension": ".py",
   "mimetype": "text/x-python",
   "name": "python",
   "nbconvert_exporter": "python",
   "pygments_lexer": "ipython3",
   "version": "3.11.8"
  }
 },
 "nbformat": 4,
 "nbformat_minor": 4
}
